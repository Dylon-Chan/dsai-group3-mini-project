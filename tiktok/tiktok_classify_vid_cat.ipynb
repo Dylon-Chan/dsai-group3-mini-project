{
 "cells": [
  {
   "cell_type": "markdown",
   "metadata": {},
   "source": [
    "# Tiktok Video Category Classification"
   ]
  },
  {
   "cell_type": "markdown",
   "metadata": {},
   "source": [
    "You will need to install transformers, torch and pandas packages first."
   ]
  },
  {
   "cell_type": "code",
   "execution_count": null,
   "metadata": {},
   "outputs": [],
   "source": [
    "! pip install transformers"
   ]
  },
  {
   "cell_type": "markdown",
   "metadata": {},
   "source": [
    "If your GPU is capable with CUDA, you can run below command to install torch with CUDA."
   ]
  },
  {
   "cell_type": "code",
   "execution_count": null,
   "metadata": {},
   "outputs": [],
   "source": [
    "! pip install torch --index-url https://download.pytorch.org/whl/cu118 --force-reinstall"
   ]
  },
  {
   "cell_type": "markdown",
   "metadata": {},
   "source": [
    "Else, you can run the below to install default torch with CPU"
   ]
  },
  {
   "cell_type": "code",
   "execution_count": null,
   "metadata": {},
   "outputs": [],
   "source": [
    "! pip install torch"
   ]
  },
  {
   "cell_type": "markdown",
   "metadata": {},
   "source": [
    "Import the necessary modules."
   ]
  },
  {
   "cell_type": "code",
   "execution_count": 1,
   "metadata": {},
   "outputs": [
    {
     "name": "stdout",
     "output_type": "stream",
     "text": [
      "Using GPU (cuda)\n"
     ]
    },
    {
     "name": "stderr",
     "output_type": "stream",
     "text": [
      "Device set to use cuda:0\n"
     ]
    }
   ],
   "source": [
    "import pandas as pd\n",
    "from classify_vid_cat import classify_category"
   ]
  },
  {
   "cell_type": "markdown",
   "metadata": {},
   "source": [
    "Prepare the Youtube Video Category List"
   ]
  },
  {
   "cell_type": "code",
   "execution_count": 2,
   "metadata": {},
   "outputs": [],
   "source": [
    "video_category = pd.read_csv('youtube_video_category_list.csv', header=0)"
   ]
  },
  {
   "cell_type": "code",
   "execution_count": 3,
   "metadata": {},
   "outputs": [],
   "source": [
    "video_category_list = video_category['video_category'].to_list()"
   ]
  },
  {
   "cell_type": "markdown",
   "metadata": {},
   "source": [
    "Prepare the title list to predict each video category"
   ]
  },
  {
   "cell_type": "code",
   "execution_count": 4,
   "metadata": {},
   "outputs": [],
   "source": [
    "tt_data= pd.read_csv('cleaned_explore_video_details.csv', index_col=0, header=0)"
   ]
  },
  {
   "cell_type": "code",
   "execution_count": 5,
   "metadata": {},
   "outputs": [],
   "source": [
    "tt_data['predicted_category'] = 'Others'"
   ]
  },
  {
   "cell_type": "code",
   "execution_count": 6,
   "metadata": {},
   "outputs": [],
   "source": [
    "valid_rows = tt_data['title'].notna()\n",
    "valid_titles = tt_data.loc[valid_rows,'title'].to_list()"
   ]
  },
  {
   "cell_type": "markdown",
   "metadata": {},
   "source": [
    "Parse in the Tiktok video title list and Youtube Video Category List to the prediction module."
   ]
  },
  {
   "cell_type": "code",
   "execution_count": 7,
   "metadata": {},
   "outputs": [
    {
     "name": "stdout",
     "output_type": "stream",
     "text": [
      "Classifying...\n",
      "Classification completed!\n"
     ]
    }
   ],
   "source": [
    "if valid_titles:\n",
    "    prediction = classify_category(valid_titles,video_category_list)\n",
    "    tt_data.loc[valid_rows, \"predicted_category\"] = prediction"
   ]
  },
  {
   "cell_type": "code",
   "execution_count": 8,
   "metadata": {},
   "outputs": [
    {
     "data": {
      "text/html": [
       "<div>\n",
       "<style scoped>\n",
       "    .dataframe tbody tr th:only-of-type {\n",
       "        vertical-align: middle;\n",
       "    }\n",
       "\n",
       "    .dataframe tbody tr th {\n",
       "        vertical-align: top;\n",
       "    }\n",
       "\n",
       "    .dataframe thead th {\n",
       "        text-align: right;\n",
       "    }\n",
       "</style>\n",
       "<table border=\"1\" class=\"dataframe\">\n",
       "  <thead>\n",
       "    <tr style=\"text-align: right;\">\n",
       "      <th></th>\n",
       "      <th>url</th>\n",
       "      <th>title</th>\n",
       "      <th>likes</th>\n",
       "      <th>comments</th>\n",
       "      <th>saves</th>\n",
       "      <th>shares</th>\n",
       "      <th>description</th>\n",
       "      <th>nickname</th>\n",
       "      <th>created_at</th>\n",
       "      <th>username</th>\n",
       "      <th>duration</th>\n",
       "      <th>date_creation</th>\n",
       "      <th>duration_seconds</th>\n",
       "      <th>tags</th>\n",
       "      <th>predicted_category</th>\n",
       "    </tr>\n",
       "  </thead>\n",
       "  <tbody>\n",
       "    <tr>\n",
       "      <th>0</th>\n",
       "      <td>https://www.tiktok.com/@singaporeprisonservice...</td>\n",
       "      <td>Always confident and adapting to challenges— S...</td>\n",
       "      <td>178000.0</td>\n",
       "      <td>1553.0</td>\n",
       "      <td>17200.0</td>\n",
       "      <td>34700.0</td>\n",
       "      <td>NaN</td>\n",
       "      <td>Singapore Prison Service</td>\n",
       "      <td>2-23</td>\n",
       "      <td>singaporeprisonservice</td>\n",
       "      <td>00:08 / 00:14</td>\n",
       "      <td>2025-02-23</td>\n",
       "      <td>14</td>\n",
       "      <td>['#SingaporePrisonService', '#cavedivers', '#c...</td>\n",
       "      <td>Action/Adventure</td>\n",
       "    </tr>\n",
       "    <tr>\n",
       "      <th>1</th>\n",
       "      <td>https://www.tiktok.com/@chardewvalley/video/74...</td>\n",
       "      <td>Cleaniness &gt; comfort</td>\n",
       "      <td>1900000.0</td>\n",
       "      <td>4384.0</td>\n",
       "      <td>68300.0</td>\n",
       "      <td>213200.0</td>\n",
       "      <td>Discover the importance of keeping your home c...</td>\n",
       "      <td>Char</td>\n",
       "      <td>2-22</td>\n",
       "      <td>chardewvalley</td>\n",
       "      <td>00:03 / 00:05</td>\n",
       "      <td>2025-02-22</td>\n",
       "      <td>5</td>\n",
       "      <td>['#Cleanliness', '#HomeComfort']</td>\n",
       "      <td>Family</td>\n",
       "    </tr>\n",
       "    <tr>\n",
       "      <th>2</th>\n",
       "      <td>https://www.tiktok.com/@ejtheoppa/video/747500...</td>\n",
       "      <td>NaN</td>\n",
       "      <td>333500.0</td>\n",
       "      <td>992.0</td>\n",
       "      <td>14900.0</td>\n",
       "      <td>45500.0</td>\n",
       "      <td>NaN</td>\n",
       "      <td>eejay</td>\n",
       "      <td>1w ago</td>\n",
       "      <td>ejtheoppa</td>\n",
       "      <td>00:08 / 00:09</td>\n",
       "      <td>2025-03-01</td>\n",
       "      <td>9</td>\n",
       "      <td>[]</td>\n",
       "      <td>Others</td>\n",
       "    </tr>\n",
       "    <tr>\n",
       "      <th>3</th>\n",
       "      <td>https://www.tiktok.com/@singyeah18/video/74633...</td>\n",
       "      <td>Commute safely🙏🙏🙏🙏🙏</td>\n",
       "      <td>9461.0</td>\n",
       "      <td>0.0</td>\n",
       "      <td>925.0</td>\n",
       "      <td>9946.0</td>\n",
       "      <td>Learn how to commute safely following recent i...</td>\n",
       "      <td>SingYeah 18♏</td>\n",
       "      <td>1-24</td>\n",
       "      <td>singyeah18</td>\n",
       "      <td>00:03 / 00:16</td>\n",
       "      <td>2025-01-24</td>\n",
       "      <td>16</td>\n",
       "      <td>['#CommuteSafely', '#AccidentAwareness']</td>\n",
       "      <td>Shows</td>\n",
       "    </tr>\n",
       "    <tr>\n",
       "      <th>4</th>\n",
       "      <td>https://www.tiktok.com/@azulacinta/video/74466...</td>\n",
       "      <td>dont bash the hotel ah its not their fault a p...</td>\n",
       "      <td>273600.0</td>\n",
       "      <td>599.0</td>\n",
       "      <td>10200.0</td>\n",
       "      <td>15400.0</td>\n",
       "      <td>Experience the fun side of travel mishaps! Joi...</td>\n",
       "      <td>Azula Cinta</td>\n",
       "      <td>2024-12-10</td>\n",
       "      <td>azulacinta</td>\n",
       "      <td>00:02 / 00:14</td>\n",
       "      <td>2024-12-10</td>\n",
       "      <td>14</td>\n",
       "      <td>['#corememoryforreal']</td>\n",
       "      <td>Shows</td>\n",
       "    </tr>\n",
       "    <tr>\n",
       "      <th>...</th>\n",
       "      <td>...</td>\n",
       "      <td>...</td>\n",
       "      <td>...</td>\n",
       "      <td>...</td>\n",
       "      <td>...</td>\n",
       "      <td>...</td>\n",
       "      <td>...</td>\n",
       "      <td>...</td>\n",
       "      <td>...</td>\n",
       "      <td>...</td>\n",
       "      <td>...</td>\n",
       "      <td>...</td>\n",
       "      <td>...</td>\n",
       "      <td>...</td>\n",
       "      <td>...</td>\n",
       "    </tr>\n",
       "    <tr>\n",
       "      <th>203</th>\n",
       "      <td>https://www.tiktok.com/@jinlusi/video/74641368...</td>\n",
       "      <td>oh I don't even want to think.😭#จ้าวลู่ซือ #zh...</td>\n",
       "      <td>4000000.0</td>\n",
       "      <td>30700.0</td>\n",
       "      <td>232300.0</td>\n",
       "      <td>110200.0</td>\n",
       "      <td>Explore the latest updates on Zhao Lusi and in...</td>\n",
       "      <td>✨Support🐰Zhaolusi✨</td>\n",
       "      <td>1-26</td>\n",
       "      <td>jinlusi</td>\n",
       "      <td>00:02 / 00:36</td>\n",
       "      <td>2025-01-26</td>\n",
       "      <td>36</td>\n",
       "      <td>['#fyp', '#foryou', '#hiddenlove', '#zhaolusi_...</td>\n",
       "      <td>Family</td>\n",
       "    </tr>\n",
       "    <tr>\n",
       "      <th>204</th>\n",
       "      <td>https://www.tiktok.com/@wahbananasg/video/7470...</td>\n",
       "      <td>Happy Valentines Day to the Singles 😘 #wahbana...</td>\n",
       "      <td>151500.0</td>\n",
       "      <td>104.0</td>\n",
       "      <td>3395.0</td>\n",
       "      <td>1750.0</td>\n",
       "      <td>Celebrate Valentine's Day with joy and friends...</td>\n",
       "      <td>WahBanana</td>\n",
       "      <td>2-13</td>\n",
       "      <td>wahbananasg</td>\n",
       "      <td>00:02 / 00:29</td>\n",
       "      <td>2025-02-13</td>\n",
       "      <td>29</td>\n",
       "      <td>['#wahbananamini', '#valentinesday']</td>\n",
       "      <td>Anime/Animation</td>\n",
       "    </tr>\n",
       "    <tr>\n",
       "      <th>205</th>\n",
       "      <td>https://www.tiktok.com/@ianthioo/video/7453709...</td>\n",
       "      <td>“no food on the floor” this was her last straw...</td>\n",
       "      <td>3200000.0</td>\n",
       "      <td>7335.0</td>\n",
       "      <td>165400.0</td>\n",
       "      <td>395300.0</td>\n",
       "      <td>Discover how grandma turns raw eggs into a cul...</td>\n",
       "      <td>idiot sandwich 🥪</td>\n",
       "      <td>2024-12-29</td>\n",
       "      <td>ianthioo</td>\n",
       "      <td>00:03 / 00:06</td>\n",
       "      <td>2024-12-29</td>\n",
       "      <td>6</td>\n",
       "      <td>['#fyp', '#grandma', '#foryou', '#RawFood', '#...</td>\n",
       "      <td>Foreign</td>\n",
       "    </tr>\n",
       "    <tr>\n",
       "      <th>206</th>\n",
       "      <td>https://www.tiktok.com/@its_blue_charles/video...</td>\n",
       "      <td>Did you know??🤔 #fyp #facts #uselessfacts #did...</td>\n",
       "      <td>3000000.0</td>\n",
       "      <td>15900.0</td>\n",
       "      <td>255900.0</td>\n",
       "      <td>1100000.0</td>\n",
       "      <td>Discover surprising facts about papaya seeds a...</td>\n",
       "      <td>Blue Charles</td>\n",
       "      <td>2024-12-5</td>\n",
       "      <td>its_blue_charles</td>\n",
       "      <td>00:02 / 00:09</td>\n",
       "      <td>2024-12-5</td>\n",
       "      <td>9</td>\n",
       "      <td>['#fyp', '#vira', '#viral_video', '#uselessfac...</td>\n",
       "      <td>Foreign</td>\n",
       "    </tr>\n",
       "    <tr>\n",
       "      <th>207</th>\n",
       "      <td>https://www.tiktok.com/@cindy_movie/video/7454...</td>\n",
       "      <td>#fyp #foryou</td>\n",
       "      <td>501300.0</td>\n",
       "      <td>2004.0</td>\n",
       "      <td>30800.0</td>\n",
       "      <td>9719.0</td>\n",
       "      <td>Explore iconic scenes from Love Actually featu...</td>\n",
       "      <td>Cindy_movie</td>\n",
       "      <td>2024-12-31</td>\n",
       "      <td>cindy_movie</td>\n",
       "      <td>00:04 / 02:08</td>\n",
       "      <td>2024-12-31</td>\n",
       "      <td>128</td>\n",
       "      <td>['#MrBean', '#LoveActually', '#fyp', '#foryou']</td>\n",
       "      <td>Foreign</td>\n",
       "    </tr>\n",
       "  </tbody>\n",
       "</table>\n",
       "<p>208 rows × 15 columns</p>\n",
       "</div>"
      ],
      "text/plain": [
       "                                                   url  \\\n",
       "0    https://www.tiktok.com/@singaporeprisonservice...   \n",
       "1    https://www.tiktok.com/@chardewvalley/video/74...   \n",
       "2    https://www.tiktok.com/@ejtheoppa/video/747500...   \n",
       "3    https://www.tiktok.com/@singyeah18/video/74633...   \n",
       "4    https://www.tiktok.com/@azulacinta/video/74466...   \n",
       "..                                                 ...   \n",
       "203  https://www.tiktok.com/@jinlusi/video/74641368...   \n",
       "204  https://www.tiktok.com/@wahbananasg/video/7470...   \n",
       "205  https://www.tiktok.com/@ianthioo/video/7453709...   \n",
       "206  https://www.tiktok.com/@its_blue_charles/video...   \n",
       "207  https://www.tiktok.com/@cindy_movie/video/7454...   \n",
       "\n",
       "                                                 title      likes  comments  \\\n",
       "0    Always confident and adapting to challenges— S...   178000.0    1553.0   \n",
       "1                                 Cleaniness > comfort  1900000.0    4384.0   \n",
       "2                                                  NaN   333500.0     992.0   \n",
       "3                                  Commute safely🙏🙏🙏🙏🙏     9461.0       0.0   \n",
       "4    dont bash the hotel ah its not their fault a p...   273600.0     599.0   \n",
       "..                                                 ...        ...       ...   \n",
       "203  oh I don't even want to think.😭#จ้าวลู่ซือ #zh...  4000000.0   30700.0   \n",
       "204  Happy Valentines Day to the Singles 😘 #wahbana...   151500.0     104.0   \n",
       "205  “no food on the floor” this was her last straw...  3200000.0    7335.0   \n",
       "206  Did you know??🤔 #fyp #facts #uselessfacts #did...  3000000.0   15900.0   \n",
       "207                                       #fyp #foryou   501300.0    2004.0   \n",
       "\n",
       "        saves     shares                                        description  \\\n",
       "0     17200.0    34700.0                                                NaN   \n",
       "1     68300.0   213200.0  Discover the importance of keeping your home c...   \n",
       "2     14900.0    45500.0                                                NaN   \n",
       "3       925.0     9946.0  Learn how to commute safely following recent i...   \n",
       "4     10200.0    15400.0  Experience the fun side of travel mishaps! Joi...   \n",
       "..        ...        ...                                                ...   \n",
       "203  232300.0   110200.0  Explore the latest updates on Zhao Lusi and in...   \n",
       "204    3395.0     1750.0  Celebrate Valentine's Day with joy and friends...   \n",
       "205  165400.0   395300.0  Discover how grandma turns raw eggs into a cul...   \n",
       "206  255900.0  1100000.0  Discover surprising facts about papaya seeds a...   \n",
       "207   30800.0     9719.0  Explore iconic scenes from Love Actually featu...   \n",
       "\n",
       "                     nickname  created_at                username  \\\n",
       "0    Singapore Prison Service        2-23  singaporeprisonservice   \n",
       "1                        Char        2-22           chardewvalley   \n",
       "2                       eejay     1w ago                ejtheoppa   \n",
       "3                SingYeah 18♏        1-24              singyeah18   \n",
       "4                 Azula Cinta  2024-12-10              azulacinta   \n",
       "..                        ...         ...                     ...   \n",
       "203        ✨Support🐰Zhaolusi✨        1-26                 jinlusi   \n",
       "204                 WahBanana        2-13             wahbananasg   \n",
       "205          idiot sandwich 🥪  2024-12-29                ianthioo   \n",
       "206              Blue Charles   2024-12-5        its_blue_charles   \n",
       "207               Cindy_movie  2024-12-31             cindy_movie   \n",
       "\n",
       "          duration date_creation  duration_seconds  \\\n",
       "0    00:08 / 00:14    2025-02-23                14   \n",
       "1    00:03 / 00:05    2025-02-22                 5   \n",
       "2    00:08 / 00:09    2025-03-01                 9   \n",
       "3    00:03 / 00:16    2025-01-24                16   \n",
       "4    00:02 / 00:14    2024-12-10                14   \n",
       "..             ...           ...               ...   \n",
       "203  00:02 / 00:36    2025-01-26                36   \n",
       "204  00:02 / 00:29    2025-02-13                29   \n",
       "205  00:03 / 00:06    2024-12-29                 6   \n",
       "206  00:02 / 00:09     2024-12-5                 9   \n",
       "207  00:04 / 02:08    2024-12-31               128   \n",
       "\n",
       "                                                  tags predicted_category  \n",
       "0    ['#SingaporePrisonService', '#cavedivers', '#c...   Action/Adventure  \n",
       "1                     ['#Cleanliness', '#HomeComfort']             Family  \n",
       "2                                                   []             Others  \n",
       "3             ['#CommuteSafely', '#AccidentAwareness']              Shows  \n",
       "4                               ['#corememoryforreal']              Shows  \n",
       "..                                                 ...                ...  \n",
       "203  ['#fyp', '#foryou', '#hiddenlove', '#zhaolusi_...             Family  \n",
       "204               ['#wahbananamini', '#valentinesday']    Anime/Animation  \n",
       "205  ['#fyp', '#grandma', '#foryou', '#RawFood', '#...            Foreign  \n",
       "206  ['#fyp', '#vira', '#viral_video', '#uselessfac...            Foreign  \n",
       "207    ['#MrBean', '#LoveActually', '#fyp', '#foryou']            Foreign  \n",
       "\n",
       "[208 rows x 15 columns]"
      ]
     },
     "execution_count": 8,
     "metadata": {},
     "output_type": "execute_result"
    }
   ],
   "source": [
    "tt_data"
   ]
  },
  {
   "cell_type": "code",
   "execution_count": 9,
   "metadata": {},
   "outputs": [],
   "source": [
    "tt_data.to_csv('final_tiktok_videos.csv')"
   ]
  },
  {
   "cell_type": "code",
   "execution_count": null,
   "metadata": {},
   "outputs": [],
   "source": []
  }
 ],
 "metadata": {
  "kernelspec": {
   "display_name": "tiktok",
   "language": "python",
   "name": "python3"
  },
  "language_info": {
   "codemirror_mode": {
    "name": "ipython",
    "version": 3
   },
   "file_extension": ".py",
   "mimetype": "text/x-python",
   "name": "python",
   "nbconvert_exporter": "python",
   "pygments_lexer": "ipython3",
   "version": "3.13.2"
  }
 },
 "nbformat": 4,
 "nbformat_minor": 2
}
